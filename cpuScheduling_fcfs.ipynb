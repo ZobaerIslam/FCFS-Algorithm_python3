{
 "cells": [
  {
   "cell_type": "code",
   "execution_count": 1,
   "metadata": {},
   "outputs": [],
   "source": [
    "def FCFS(processdata):\n",
    "    data = [[ 'P' + str( i+1), processdata[i]] for i in range( len( processdata))]\n",
    "    start, end = 0, 0\n",
    "    grantChart = {}\n",
    "    waitingTime = {}\n",
    "    TotalWaitingTime = 0\n",
    "    for i in data:\n",
    "        start = end\n",
    "        end = i[ 1] + start\n",
    "        grantChart.update( { i[0]:( start, end)})\n",
    "        waitingTime.update( { i[0]: start})\n",
    "        TotalWaitingTime += start\n",
    "    \n",
    "    AWTime = (TotalWaitingTime / len(data))\n",
    "    gwa = [grantChart, waitingTime, AWTime]\n",
    "\n",
    "    return gwa"
   ]
  },
  {
   "cell_type": "code",
   "execution_count": 2,
   "metadata": {},
   "outputs": [
    {
     "name": "stdout",
     "output_type": "stream",
     "text": [
      "How many process: 5\n",
      "Enter the BurstTime of Process1: 12\n",
      "Enter the BurstTime of Process2: 34\n",
      "Enter the BurstTime of Process3: 45\n",
      "Enter the BurstTime of Process4: 56\n",
      "Enter the BurstTime of Process5: 67\n",
      "\n",
      "\n",
      "Output:\n",
      "\n",
      "Process\tStartTime  EndTime\n",
      "P1\t0\t   12.0\n",
      "P2\t12.0\t   46.0\n",
      "P3\t46.0\t   91.0\n",
      "P4\t91.0\t   147.0\n",
      "P5\t147.0\t   214.0\n",
      "\n",
      "Process\tWaitingTime\n",
      "P1\t0\n",
      "P2\t12.0\n",
      "P3\t46.0\n",
      "P4\t91.0\n",
      "P5\t147.0\n",
      "\n",
      "AverageWaitingTime: 59.2\n"
     ]
    }
   ],
   "source": [
    "print(\"How many process: \", end = '')\n",
    "a = int(input())\n",
    "inputs = [ float( input(\"Enter the BurstTime of Process\" + str( i+1) + ': '))\\\n",
    "          for i in range(a)]\n",
    "print('\\n\\nOutput:\\n')\n",
    "gwa = FCFS(inputs)\n",
    "for i in range(len(gwa)):\n",
    "    if i == 0:\n",
    "        print('Process\\tStartTime  EndTime')\n",
    "        for j in gwa[i].items():\n",
    "            print(j[0] + '\\t' + str(j[1][0]) + '\\t   ' + str(j[1][1]))\n",
    "    if i == 1:\n",
    "        print('\\nProcess\\tWaitingTime')\n",
    "        for j in gwa[i].items():\n",
    "            print(j[0] + '\\t' + str(j[1]))\n",
    "    if i == 2:\n",
    "        print('\\nAverageWaitingTime: ', end = '')\n",
    "        print(gwa[i])"
   ]
  },
  {
   "cell_type": "code",
   "execution_count": null,
   "metadata": {},
   "outputs": [],
   "source": []
  }
 ],
 "metadata": {
  "kernelspec": {
   "display_name": "Python 3",
   "language": "python",
   "name": "python3"
  },
  "language_info": {
   "codemirror_mode": {
    "name": "ipython",
    "version": 3
   },
   "file_extension": ".py",
   "mimetype": "text/x-python",
   "name": "python",
   "nbconvert_exporter": "python",
   "pygments_lexer": "ipython3",
   "version": "3.7.3"
  }
 },
 "nbformat": 4,
 "nbformat_minor": 2
}
